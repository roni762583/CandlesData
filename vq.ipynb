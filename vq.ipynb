{
  "nbformat": 4,
  "nbformat_minor": 0,
  "metadata": {
    "colab": {
      "name": "vq.ipynb",
      "provenance": [],
      "collapsed_sections": [],
      "include_colab_link": true
    },
    "kernelspec": {
      "name": "python3",
      "display_name": "Python 3"
    }
  },
  "cells": [
    {
      "cell_type": "markdown",
      "metadata": {
        "id": "view-in-github",
        "colab_type": "text"
      },
      "source": [
        "<a href=\"https://colab.research.google.com/github/roni762583/CandlesData/blob/master/vq.ipynb\" target=\"_parent\"><img src=\"https://colab.research.google.com/assets/colab-badge.svg\" alt=\"Open In Colab\"/></a>"
      ]
    },
    {
      "cell_type": "code",
      "metadata": {
        "id": "D1J15Vh_1Jih",
        "colab_type": "code",
        "outputId": "3442140e-b618-4e61-9ea6-c46fa7c93c52",
        "colab": {
          "base_uri": "https://localhost:8080/",
          "height": 956
        }
      },
      "source": [
        "!pip install tf-nightly-2.0-preview\n"
      ],
      "execution_count": 1,
      "outputs": [
        {
          "output_type": "stream",
          "text": [
            "Collecting tf-nightly-2.0-preview\n",
            "\u001b[?25l  Downloading https://files.pythonhosted.org/packages/b8/be/e4e2cc0b4896648fe6d5e45dda6d8c3b784823301708cfe4ff96de9e01cf/tf_nightly_2.0_preview-2.0.0.dev20191002-cp36-cp36m-manylinux2010_x86_64.whl (95.2MB)\n",
            "\u001b[K     |████████████████████████████████| 95.2MB 56kB/s \n",
            "\u001b[?25hRequirement already satisfied: keras-preprocessing>=1.0.5 in /usr/local/lib/python3.6/dist-packages (from tf-nightly-2.0-preview) (1.1.0)\n",
            "Requirement already satisfied: wheel>=0.26; python_version >= \"3\" in /usr/local/lib/python3.6/dist-packages (from tf-nightly-2.0-preview) (0.33.6)\n",
            "Requirement already satisfied: astor>=0.6.0 in /usr/local/lib/python3.6/dist-packages (from tf-nightly-2.0-preview) (0.8.1)\n",
            "Requirement already satisfied: termcolor>=1.1.0 in /usr/local/lib/python3.6/dist-packages (from tf-nightly-2.0-preview) (1.1.0)\n",
            "Requirement already satisfied: numpy<2.0,>=1.16.0 in /usr/local/lib/python3.6/dist-packages (from tf-nightly-2.0-preview) (1.17.5)\n",
            "Collecting tb-nightly<2.2.0a0,>=2.1.0a0\n",
            "\u001b[?25l  Downloading https://files.pythonhosted.org/packages/48/6b/b9e735120c77721570aed36cec55390827db0d580b14a5ffd93a4cce5997/tb_nightly-2.1.0a20191206-py3-none-any.whl (3.8MB)\n",
            "\u001b[K     |████████████████████████████████| 3.8MB 46.1MB/s \n",
            "\u001b[?25hCollecting tensorflow-estimator-2.0-preview\n",
            "\u001b[?25l  Downloading https://files.pythonhosted.org/packages/db/f5/790508e193121ab301cb40cada7f451c531404051ac9249f21b1f5484450/tensorflow_estimator_2.0_preview-2.0.0-py2.py3-none-any.whl (449kB)\n",
            "\u001b[K     |████████████████████████████████| 450kB 50.7MB/s \n",
            "\u001b[?25hRequirement already satisfied: google-pasta>=0.1.6 in /usr/local/lib/python3.6/dist-packages (from tf-nightly-2.0-preview) (0.1.8)\n",
            "Requirement already satisfied: opt-einsum>=2.3.2 in /usr/local/lib/python3.6/dist-packages (from tf-nightly-2.0-preview) (3.1.0)\n",
            "Requirement already satisfied: six>=1.10.0 in /usr/local/lib/python3.6/dist-packages (from tf-nightly-2.0-preview) (1.12.0)\n",
            "Requirement already satisfied: gast==0.2.2 in /usr/local/lib/python3.6/dist-packages (from tf-nightly-2.0-preview) (0.2.2)\n",
            "Requirement already satisfied: wrapt>=1.11.1 in /usr/local/lib/python3.6/dist-packages (from tf-nightly-2.0-preview) (1.11.2)\n",
            "Requirement already satisfied: grpcio>=1.8.6 in /usr/local/lib/python3.6/dist-packages (from tf-nightly-2.0-preview) (1.15.0)\n",
            "Requirement already satisfied: absl-py>=0.7.0 in /usr/local/lib/python3.6/dist-packages (from tf-nightly-2.0-preview) (0.9.0)\n",
            "Requirement already satisfied: keras-applications>=1.0.8 in /usr/local/lib/python3.6/dist-packages (from tf-nightly-2.0-preview) (1.0.8)\n",
            "Requirement already satisfied: protobuf>=3.6.1 in /usr/local/lib/python3.6/dist-packages (from tf-nightly-2.0-preview) (3.10.0)\n",
            "Requirement already satisfied: werkzeug>=0.11.15 in /usr/local/lib/python3.6/dist-packages (from tb-nightly<2.2.0a0,>=2.1.0a0->tf-nightly-2.0-preview) (0.16.0)\n",
            "Requirement already satisfied: google-auth-oauthlib<0.5,>=0.4.1 in /usr/local/lib/python3.6/dist-packages (from tb-nightly<2.2.0a0,>=2.1.0a0->tf-nightly-2.0-preview) (0.4.1)\n",
            "Requirement already satisfied: setuptools>=41.0.0 in /usr/local/lib/python3.6/dist-packages (from tb-nightly<2.2.0a0,>=2.1.0a0->tf-nightly-2.0-preview) (42.0.2)\n",
            "Requirement already satisfied: requests<3,>=2.21.0 in /usr/local/lib/python3.6/dist-packages (from tb-nightly<2.2.0a0,>=2.1.0a0->tf-nightly-2.0-preview) (2.21.0)\n",
            "Collecting google-auth<2,>=1.6.3\n",
            "\u001b[?25l  Downloading https://files.pythonhosted.org/packages/1c/6d/7aae38a9022f982cf8167775c7fc299f203417b698c27080ce09060bba07/google_auth-1.11.0-py2.py3-none-any.whl (76kB)\n",
            "\u001b[K     |████████████████████████████████| 81kB 10.7MB/s \n",
            "\u001b[?25hRequirement already satisfied: markdown>=2.6.8 in /usr/local/lib/python3.6/dist-packages (from tb-nightly<2.2.0a0,>=2.1.0a0->tf-nightly-2.0-preview) (3.1.1)\n",
            "Requirement already satisfied: h5py in /usr/local/lib/python3.6/dist-packages (from keras-applications>=1.0.8->tf-nightly-2.0-preview) (2.8.0)\n",
            "Requirement already satisfied: requests-oauthlib>=0.7.0 in /usr/local/lib/python3.6/dist-packages (from google-auth-oauthlib<0.5,>=0.4.1->tb-nightly<2.2.0a0,>=2.1.0a0->tf-nightly-2.0-preview) (1.3.0)\n",
            "Requirement already satisfied: chardet<3.1.0,>=3.0.2 in /usr/local/lib/python3.6/dist-packages (from requests<3,>=2.21.0->tb-nightly<2.2.0a0,>=2.1.0a0->tf-nightly-2.0-preview) (3.0.4)\n",
            "Requirement already satisfied: idna<2.9,>=2.5 in /usr/local/lib/python3.6/dist-packages (from requests<3,>=2.21.0->tb-nightly<2.2.0a0,>=2.1.0a0->tf-nightly-2.0-preview) (2.8)\n",
            "Requirement already satisfied: urllib3<1.25,>=1.21.1 in /usr/local/lib/python3.6/dist-packages (from requests<3,>=2.21.0->tb-nightly<2.2.0a0,>=2.1.0a0->tf-nightly-2.0-preview) (1.24.3)\n",
            "Requirement already satisfied: certifi>=2017.4.17 in /usr/local/lib/python3.6/dist-packages (from requests<3,>=2.21.0->tb-nightly<2.2.0a0,>=2.1.0a0->tf-nightly-2.0-preview) (2019.11.28)\n",
            "Requirement already satisfied: cachetools<5.0,>=2.0.0 in /usr/local/lib/python3.6/dist-packages (from google-auth<2,>=1.6.3->tb-nightly<2.2.0a0,>=2.1.0a0->tf-nightly-2.0-preview) (4.0.0)\n",
            "Requirement already satisfied: pyasn1-modules>=0.2.1 in /usr/local/lib/python3.6/dist-packages (from google-auth<2,>=1.6.3->tb-nightly<2.2.0a0,>=2.1.0a0->tf-nightly-2.0-preview) (0.2.7)\n",
            "Requirement already satisfied: rsa<4.1,>=3.1.4 in /usr/local/lib/python3.6/dist-packages (from google-auth<2,>=1.6.3->tb-nightly<2.2.0a0,>=2.1.0a0->tf-nightly-2.0-preview) (4.0)\n",
            "Requirement already satisfied: oauthlib>=3.0.0 in /usr/local/lib/python3.6/dist-packages (from requests-oauthlib>=0.7.0->google-auth-oauthlib<0.5,>=0.4.1->tb-nightly<2.2.0a0,>=2.1.0a0->tf-nightly-2.0-preview) (3.1.0)\n",
            "Requirement already satisfied: pyasn1<0.5.0,>=0.4.6 in /usr/local/lib/python3.6/dist-packages (from pyasn1-modules>=0.2.1->google-auth<2,>=1.6.3->tb-nightly<2.2.0a0,>=2.1.0a0->tf-nightly-2.0-preview) (0.4.8)\n",
            "\u001b[31mERROR: google-colab 1.0.0 has requirement google-auth~=1.4.0, but you'll have google-auth 1.11.0 which is incompatible.\u001b[0m\n",
            "\u001b[31mERROR: tb-nightly 2.1.0a20191206 has requirement grpcio>=1.24.3, but you'll have grpcio 1.15.0 which is incompatible.\u001b[0m\n",
            "Installing collected packages: google-auth, tb-nightly, tensorflow-estimator-2.0-preview, tf-nightly-2.0-preview\n",
            "  Found existing installation: google-auth 1.4.2\n",
            "    Uninstalling google-auth-1.4.2:\n",
            "      Successfully uninstalled google-auth-1.4.2\n",
            "Successfully installed google-auth-1.11.0 tb-nightly-2.1.0a20191206 tensorflow-estimator-2.0-preview-2.0.0 tf-nightly-2.0-preview-2.0.0.dev20191002\n"
          ],
          "name": "stdout"
        },
        {
          "output_type": "display_data",
          "data": {
            "application/vnd.colab-display-data+json": {
              "pip_warning": {
                "packages": [
                  "google"
                ]
              }
            }
          },
          "metadata": {
            "tags": []
          }
        }
      ]
    },
    {
      "cell_type": "code",
      "metadata": {
        "id": "BOjujz601HcS",
        "colab_type": "code",
        "outputId": "f3806104-2bbb-4cb6-c7a1-7dfa3196f2a5",
        "colab": {
          "base_uri": "https://localhost:8080/",
          "height": 34
        }
      },
      "source": [
        "import tensorflow as tf\n",
        "import numpy as np\n",
        "import matplotlib.pyplot as plt\n",
        "import pandas as pd\n",
        "import math\n",
        "print(tf.__version__)"
      ],
      "execution_count": 2,
      "outputs": [
        {
          "output_type": "stream",
          "text": [
            "2.0.0-dev20191002\n"
          ],
          "name": "stdout"
        }
      ]
    },
    {
      "cell_type": "markdown",
      "metadata": {
        "id": "F3TKovyRC-gU",
        "colab_type": "text"
      },
      "source": [
        "LOAD DATA - Ref: https://medium.com/@yuraist/how-to-upload-your-own-dataset-into-google-colab-e228727c87e9"
      ]
    },
    {
      "cell_type": "code",
      "metadata": {
        "id": "nhfJX_ApDEeu",
        "colab_type": "code",
        "outputId": "e3576a1b-11db-48ae-cc06-d2de9e7c6727",
        "colab": {
          "base_uri": "https://localhost:8080/",
          "height": 85
        }
      },
      "source": [
        "#clone data\n",
        "! git clone https://github.com/roni762583/CandlesData.git"
      ],
      "execution_count": 3,
      "outputs": [
        {
          "output_type": "stream",
          "text": [
            "Cloning into 'CandlesData'...\n",
            "remote: Enumerating objects: 45, done.\u001b[K\n",
            "remote: Total 45 (delta 0), reused 0 (delta 0), pack-reused 45\u001b[K\n",
            "Unpacking objects: 100% (45/45), done.\n"
          ],
          "name": "stdout"
        }
      ]
    },
    {
      "cell_type": "code",
      "metadata": {
        "id": "iqF91WwizCrK",
        "colab_type": "code",
        "colab": {
          "base_uri": "https://localhost:8080/",
          "height": 364
        },
        "outputId": "77e4d018-d044-4a90-c908-b559fc8e8d64"
      },
      "source": [
        "###################### GRAPH THE DATA TO EXPLORE #######################\n",
        "# Build dataframe to graph closing prices, delta, log of delta\n",
        "graphingDF = pd.DataFrame() #final DF\n",
        "concatCloseDF = pd.DataFrame()\n",
        "#loop over data files by instrument and day to form dataframe\n",
        "days = range(3,7) # days of month: 3 - 6 inclusive (4-days)\n",
        "instruments = range(1,7) # 6 instruments (6th is target)\n",
        "for inst in instruments:\n",
        "    #gdf add column for each inst. close \n",
        "    colStr = 'c'+ str(inst)\n",
        "    for day in days:\n",
        "        #build data file name pattern\n",
        "        fileName = \"INST\"+str(inst)+\"_2018-12-0\"+str(day)+\".csv\"\n",
        "        \n",
        "        fileDF = pd.read_csv(\"CandlesData/\"+fileName)\n",
        "\n",
        "        #add date-time column as index ...below\n",
        "        date = \"2018-12-0\"+str(day)+\" \"  #str w/ space\n",
        "        hour = (np.floor(fileDF['Seconds']/3600)).astype(int) #clean decimals\n",
        "        minute = (np.floor(fileDF['Seconds']/60 - hour*60)).astype(int)\n",
        "        sec = fileDF['Seconds'] - hour*3600 - minute*60\n",
        "\n",
        "        #shift hour to market open 9:00am (assumption for my convinience)\n",
        "        hour  = hour + 9\n",
        "        \n",
        "        #get leading zero when input one digit long\n",
        "        def getLeadingZero(x):\n",
        "            return np.where(len(str(x)) < 2, '0', '')\n",
        "\n",
        "        #clean up seconds\n",
        "        secLeadingZero = sec.apply(getLeadingZero)#get leading zero series\n",
        "        cleanSec = secLeadingZero + sec.astype(str)  #add leading zero series\n",
        "        #clean up minutes\n",
        "        minLeadingZero = minute.apply(getLeadingZero) #like above\n",
        "        cleanMinute =  minLeadingZero + minute.astype(str) #add leading zero series\n",
        "        #clean up hour\n",
        "        hrLeadingZero = hour.apply(getLeadingZero)\n",
        "        cleanHour = hrLeadingZero + hour.astype(str)\n",
        "        #build date string for pandas datetime obj as index\n",
        "        dateString = date + cleanHour + \":\" + cleanMinute +  \":\" + cleanSec \n",
        "        \n",
        "        from datetime import datetime\n",
        "        #add dateTime col to fileDF\n",
        "        fileDF['dateTime'] = pd.to_datetime(dateString)\n",
        "\n",
        "        #set dateTime col as index and sort\n",
        "        fileDF.set_index('dateTime', inplace=True)\n",
        "        fileDF = fileDF.sort_index()\n",
        "        #\n",
        "        if(len(concatCloseDF)<1):\n",
        "            concatCloseDF = fileDF[['Close']].copy()\n",
        "        else:\n",
        "            concatCloseDF = pd.concat([concatCloseDF, fileDF[['Close']].copy()])\n",
        "        #print(concatCloseDF.shape)\n",
        "    #inst for loop indent here\n",
        "    #if this is first column added to DF, copy from fileDF including index    \n",
        "    if(len(graphingDF.columns)<1):\n",
        "        #print('.')\n",
        "        #print(concatCloseDF)\n",
        "        graphingDF['Close'] = concatCloseDF['Close'].copy()\n",
        "        #print('^')\n",
        "        #remane to match others\n",
        "        #graphingDF.rename(columns={'Close': 'Close1'}, inplace=True)\n",
        "    #otherwise left join on index\n",
        "    else:\n",
        "        print('processing instrument '+str(inst)+' ...')\n",
        "        graphingDF = graphingDF.join(concatCloseDF, rsuffix=str(inst))\n",
        "\n",
        "    #clear temp queue between instruments    \n",
        "    concatCloseDF = pd.DataFrame()\n",
        "\n",
        "#rename col. 'Close' to 'Close1'\n",
        "graphingDF.rename(columns={'Close': 'Close1'}, inplace=True)\n",
        "graphingDF\n",
        "\n",
        "def normalize_data(df):\n",
        "  #normalize price by dividing by first value\n",
        "  return df/df.iloc[0,:]\n",
        "\n",
        "#graph the data\n",
        "normalize_data(graphingDF).plot()\n",
        "plt.show()"
      ],
      "execution_count": 5,
      "outputs": [
        {
          "output_type": "stream",
          "text": [
            "processing instrument 2 ...\n",
            "processing instrument 3 ...\n",
            "processing instrument 4 ...\n",
            "processing instrument 5 ...\n",
            "processing instrument 6 ...\n"
          ],
          "name": "stdout"
        },
        {
          "output_type": "display_data",
          "data": {
            "image/png": "[encoded data removed]",
            "text/plain": [
              "<Figure size 432x288 with 1 Axes>"
            ]
          },
          "metadata": {
            "tags": []
          }
        }
      ]
    },
    {
      "cell_type": "code",
      "metadata": {
        "id": "7J_-V97vBQT-",
        "colab_type": "code",
        "colab": {
          "base_uri": "https://localhost:8080/",
          "height": 281
        },
        "outputId": "870e3cfa-d606-4cf5-c022-818d742b30f8"
      },
      "source": [
        "#Histograms\n",
        "normalize_data(graphingDF).hist()\n",
        "plt.show()"
      ],
      "execution_count": 13,
      "outputs": [
        {
          "output_type": "display_data",
          "data": {
            "image/png": "[encoded data removed]",
            "text/plain": [
              "<Figure size 432x288 with 6 Axes>"
            ]
          },
          "metadata": {
            "tags": []
          }
        }
      ]
    },
    {
      "cell_type": "code",
      "metadata": {
        "id": "vubiyPKzBzfn",
        "colab_type": "code",
        "colab": {
          "base_uri": "https://localhost:8080/",
          "height": 265
        },
        "outputId": "f8000cda-261e-4e7d-b528-bbbe9e1c5348"
      },
      "source": [
        "# Univariate Density Plots\n",
        "normalize_data(graphingDF).plot(kind='density', subplots=True, layout=(3,2), sharex=False)\n",
        "plt.show()"
      ],
      "execution_count": 14,
      "outputs": [
        {
          "output_type": "display_data",
          "data": {
            "image/png": "[encoded data removed]",
            "text/plain": [
              "<Figure size 432x288 with 6 Axes>"
            ]
          },
          "metadata": {
            "tags": []
          }
        }
      ]
    },
    {
      "cell_type": "code",
      "metadata": {
        "id": "uqxH3cY_DEVF",
        "colab_type": "code",
        "colab": {
          "base_uri": "https://localhost:8080/",
          "height": 265
        },
        "outputId": "eb00f912-05eb-4ae6-b447-67600e6f6243"
      },
      "source": [
        "#Wiskers\n",
        "graphingDF.plot(kind='box', subplots=True, layout=(2,3), sharex=False, sharey=False)\n",
        "plt.show()"
      ],
      "execution_count": 17,
      "outputs": [
        {
          "output_type": "display_data",
          "data": {
            "image/png": "[encoded data removed]",
            "text/plain": [
              "<Figure size 432x288 with 6 Axes>"
            ]
          },
          "metadata": {
            "tags": []
          }
        }
      ]
    },
    {
      "cell_type": "code",
      "metadata": {
        "id": "mpcujib0BmHJ",
        "colab_type": "code",
        "colab": {
          "base_uri": "https://localhost:8080/",
          "height": 271
        },
        "outputId": "fcfb90a4-57ba-4b96-e1d5-8ac85bc1206b"
      },
      "source": [
        "# Correction Matrix Plot\n",
        "correlations = graphingDF.corr()\n",
        "# plot correlation matrix\n",
        "fig = plt.figure()\n",
        "ax = fig.add_subplot(111)\n",
        "cax = ax.matshow(correlations, vmin=-1, vmax=1)\n",
        "fig.colorbar(cax)\n",
        "ticks = np.arange(0,9,1)\n",
        "names = graphingDF.columns\n",
        "ax.set_xticks(ticks)\n",
        "ax.set_yticks(ticks)\n",
        "ax.set_xticklabels(names)\n",
        "ax.set_yticklabels(names)\n",
        "plt.show()\n",
        "\n",
        "#Shows instruments 2 and 3 have strongest (negative) correlation"
      ],
      "execution_count": 23,
      "outputs": [
        {
          "output_type": "display_data",
          "data": {
            "image/png": "[encoded data removed]",
            "text/plain": [
              "<Figure size 432x288 with 2 Axes>"
            ]
          },
          "metadata": {
            "tags": []
          }
        }
      ]
    },
    {
      "cell_type": "code",
      "metadata": {
        "id": "HsRCtYoxQVX8",
        "colab_type": "code",
        "outputId": "08b986b5-4b4a-4e0e-a1e5-ab372d62aab8",
        "colab": {
          "base_uri": "https://localhost:8080/",
          "height": 419
        }
      },
      "source": [
        "############ BUILD DATAFRAME FOR MACHINE LEARNING #############\n",
        "#Load data and build dataframe\n",
        "trainingDataFrame = pd.DataFrame()\n",
        "\n",
        "#loop over data files by instrument and day to form dataframe\n",
        "days = range(3,7) # days of month: 3 - 6 inclusive (4-days)\n",
        "instruments = range(1,7) # 6 instruments (6th is target)\n",
        "for inst in instruments:\n",
        "   \n",
        "    colStr = 'c'+ str(inst)\n",
        "\n",
        "    for day in days:\n",
        "        #build data file name pattern\n",
        "        fileName = \"INST\"+str(inst)+\"_2018-12-0\"+str(day)+\".csv\"\n",
        "        \n",
        "        df = pd.read_csv(\"CandlesData/\"+fileName)\n",
        "\n",
        "        #add date-time column as index ...below\n",
        "        date = \"2018-12-0\"+str(day)+\" \"  #str w/ space\n",
        "        hour = (np.floor(df['Seconds']/3600)).astype(int) #clean decimals\n",
        "        minute = (np.floor(df['Seconds']/60 - hour*60)).astype(int)\n",
        "        sec = df['Seconds'] - hour*3600 - minute*60\n",
        "\n",
        "        #shift hour to market open 9:00am (assumption for my convinience)\n",
        "        hour  = hour + 9\n",
        "        \n",
        "        #get leading zero when input one digit long\n",
        "        def getLeadingZero(x):\n",
        "            return np.where(len(str(x)) < 2, '0', '')\n",
        "\n",
        "        #clean up seconds\n",
        "        secLeadingZero = sec.apply(getLeadingZero)#get leading zero series\n",
        "        cleanSec = secLeadingZero + sec.astype(str)  #add leading zero series\n",
        "        #clean up minutes\n",
        "        minLeadingZero = minute.apply(getLeadingZero) #like above\n",
        "        cleanMinute =  minLeadingZero + minute.astype(str) #add leading zero series\n",
        "        #clean up hour\n",
        "        hrLeadingZero = hour.apply(getLeadingZero)\n",
        "        cleanHour = hrLeadingZero + hour.astype(str)\n",
        "        #build date string for pandas datetime obj as index\n",
        "        dateString = date + cleanHour + \":\" + cleanMinute +  \":\" + cleanSec \n",
        "        \n",
        "        from datetime import datetime\n",
        "        df['dateTime'] = pd.to_datetime(dateString)#, format='%Y-%m-%d %H:%M:%S', errors='coerce', infer_datetime_format=True)\n",
        "        \n",
        "        #additional columns for training dataset: instrument, and cols for one-hot encoding\n",
        "        cols = ['instrument','INST1','INST2','INST3','INST4','INST5','INST6'] #separate out INST6 as target\n",
        "\n",
        "        #returns 0, 1 for one hot encoding, comparing index loop to col#\n",
        "        def getOneHot(instStr, colName):\n",
        "            s1 = colName[-1:] #take last char from colName i.e. digit\n",
        "            s2 = instStr #inst str from loop index\n",
        "            #print(s1+\" \"+s2)\n",
        "            return np.where(s1 == s2, 1, 0)\n",
        "\n",
        "        for col in cols:\n",
        "            #for new col in list, populate col with 1's to indicate instrument else, zero for one hot encoding\n",
        "            if(col!='instrument'):\n",
        "                df[col] = getOneHot(str(inst),col)\n",
        "            elif(col=='instrument'): #this column should aid in graphing\n",
        "                df[col] = inst\n",
        "\n",
        "        #rearrange column order\n",
        "        cols = df.columns.tolist()\n",
        "        cols = cols[-8:] + cols[:-8] #put last 7 cols in front\n",
        "        df = df[cols] #assign reorder\n",
        "        #print('file: '+fileName+' loaded; dataframe rows are: ' + str(len(df))) #six files have an extra second\n",
        "        #if len(df)>28800:\n",
        "            #print(df.tail())\n",
        "        trainingDataFrame = pd.concat([trainingDataFrame, df])\n",
        "\n",
        "trainingDataFrame = trainingDataFrame.sort_index()\n",
        "#trainingDataFrame.info()\n",
        "#print('Total trainingDataFrame rows: '+ str(len(trainingDataFrame))) #691206\n",
        "#print('number of columns: '+str(len(trainingDataFrame.columns)))\n",
        "#print('shape: ')\n",
        "#trainingDataFrame.shape\n",
        "#print('size')\n",
        "#trainingDataFrame.size\n",
        "#df.sum(axis = 0, skipna = True)     \n",
        "trainingDataFrame"
      ],
      "execution_count": 9,
      "outputs": [
        {
          "output_type": "execute_result",
          "data": {
            "text/html": [
              "<div>\n",
              "<style scoped>\n",
              "    .dataframe tbody tr th:only-of-type {\n",
              "        vertical-align: middle;\n",
              "    }\n",
              "\n",
              "    .dataframe tbody tr th {\n",
              "        vertical-align: top;\n",
              "    }\n",
              "\n",
              "    .dataframe thead th {\n",
              "        text-align: right;\n",
              "    }\n",
              "</style>\n",
              "<table border=\"1\" class=\"dataframe\">\n",
              "  <thead>\n",
              "    <tr style=\"text-align: right;\">\n",
              "      <th></th>\n",
              "      <th>dateTime</th>\n",
              "      <th>instrument</th>\n",
              "      <th>INST1</th>\n",
              "      <th>INST2</th>\n",
              "      <th>INST3</th>\n",
              "      <th>INST4</th>\n",
              "      <th>INST5</th>\n",
              "      <th>INST6</th>\n",
              "      <th>Seconds</th>\n",
              "      <th>High</th>\n",
              "      <th>Low</th>\n",
              "      <th>Open</th>\n",
              "      <th>Close</th>\n",
              "      <th>Qty</th>\n",
              "    </tr>\n",
              "  </thead>\n",
              "  <tbody>\n",
              "    <tr>\n",
              "      <th>0</th>\n",
              "      <td>2018-12-03 09:00:00</td>\n",
              "      <td>1</td>\n",
              "      <td>1</td>\n",
              "      <td>0</td>\n",
              "      <td>0</td>\n",
              "      <td>0</td>\n",
              "      <td>0</td>\n",
              "      <td>0</td>\n",
              "      <td>0</td>\n",
              "      <td>2556.0</td>\n",
              "      <td>2556.0</td>\n",
              "      <td>2556.0</td>\n",
              "      <td>2556.0</td>\n",
              "      <td>1.0</td>\n",
              "    </tr>\n",
              "    <tr>\n",
              "      <th>0</th>\n",
              "      <td>2018-12-04 09:00:00</td>\n",
              "      <td>4</td>\n",
              "      <td>0</td>\n",
              "      <td>0</td>\n",
              "      <td>0</td>\n",
              "      <td>1</td>\n",
              "      <td>0</td>\n",
              "      <td>0</td>\n",
              "      <td>0</td>\n",
              "      <td>1850.0</td>\n",
              "      <td>1850.0</td>\n",
              "      <td>1850.0</td>\n",
              "      <td>1850.0</td>\n",
              "      <td>5.0</td>\n",
              "    </tr>\n",
              "    <tr>\n",
              "      <th>0</th>\n",
              "      <td>2018-12-04 09:00:00</td>\n",
              "      <td>3</td>\n",
              "      <td>0</td>\n",
              "      <td>0</td>\n",
              "      <td>1</td>\n",
              "      <td>0</td>\n",
              "      <td>0</td>\n",
              "      <td>0</td>\n",
              "      <td>0</td>\n",
              "      <td>690.0</td>\n",
              "      <td>690.0</td>\n",
              "      <td>690.0</td>\n",
              "      <td>690.0</td>\n",
              "      <td>1.0</td>\n",
              "    </tr>\n",
              "    <tr>\n",
              "      <th>0</th>\n",
              "      <td>2018-12-05 09:00:00</td>\n",
              "      <td>4</td>\n",
              "      <td>0</td>\n",
              "      <td>0</td>\n",
              "      <td>0</td>\n",
              "      <td>1</td>\n",
              "      <td>0</td>\n",
              "      <td>0</td>\n",
              "      <td>0</td>\n",
              "      <td>1844.0</td>\n",
              "      <td>1844.0</td>\n",
              "      <td>1844.0</td>\n",
              "      <td>1844.0</td>\n",
              "      <td>1.0</td>\n",
              "    </tr>\n",
              "    <tr>\n",
              "      <th>0</th>\n",
              "      <td>2018-12-05 09:00:00</td>\n",
              "      <td>6</td>\n",
              "      <td>0</td>\n",
              "      <td>0</td>\n",
              "      <td>0</td>\n",
              "      <td>0</td>\n",
              "      <td>0</td>\n",
              "      <td>1</td>\n",
              "      <td>0</td>\n",
              "      <td>3312.0</td>\n",
              "      <td>3312.0</td>\n",
              "      <td>3312.0</td>\n",
              "      <td>3312.0</td>\n",
              "      <td>7.0</td>\n",
              "    </tr>\n",
              "    <tr>\n",
              "      <th>...</th>\n",
              "      <td>...</td>\n",
              "      <td>...</td>\n",
              "      <td>...</td>\n",
              "      <td>...</td>\n",
              "      <td>...</td>\n",
              "      <td>...</td>\n",
              "      <td>...</td>\n",
              "      <td>...</td>\n",
              "      <td>...</td>\n",
              "      <td>...</td>\n",
              "      <td>...</td>\n",
              "      <td>...</td>\n",
              "      <td>...</td>\n",
              "      <td>...</td>\n",
              "    </tr>\n",
              "    <tr>\n",
              "      <th>28800</th>\n",
              "      <td>2018-12-05 17:00:00</td>\n",
              "      <td>5</td>\n",
              "      <td>0</td>\n",
              "      <td>0</td>\n",
              "      <td>0</td>\n",
              "      <td>0</td>\n",
              "      <td>1</td>\n",
              "      <td>0</td>\n",
              "      <td>28800</td>\n",
              "      <td>3055.0</td>\n",
              "      <td>3055.0</td>\n",
              "      <td>3055.0</td>\n",
              "      <td>3055.0</td>\n",
              "      <td>4.0</td>\n",
              "    </tr>\n",
              "    <tr>\n",
              "      <th>28800</th>\n",
              "      <td>2018-12-05 17:00:00</td>\n",
              "      <td>3</td>\n",
              "      <td>0</td>\n",
              "      <td>0</td>\n",
              "      <td>1</td>\n",
              "      <td>0</td>\n",
              "      <td>0</td>\n",
              "      <td>0</td>\n",
              "      <td>28800</td>\n",
              "      <td>670.0</td>\n",
              "      <td>670.0</td>\n",
              "      <td>670.0</td>\n",
              "      <td>670.0</td>\n",
              "      <td>17.0</td>\n",
              "    </tr>\n",
              "    <tr>\n",
              "      <th>28800</th>\n",
              "      <td>2018-12-06 17:00:00</td>\n",
              "      <td>5</td>\n",
              "      <td>0</td>\n",
              "      <td>0</td>\n",
              "      <td>0</td>\n",
              "      <td>0</td>\n",
              "      <td>1</td>\n",
              "      <td>0</td>\n",
              "      <td>28800</td>\n",
              "      <td>3075.0</td>\n",
              "      <td>3075.0</td>\n",
              "      <td>3075.0</td>\n",
              "      <td>3075.0</td>\n",
              "      <td>33.0</td>\n",
              "    </tr>\n",
              "    <tr>\n",
              "      <th>28800</th>\n",
              "      <td>2018-12-03 17:00:00</td>\n",
              "      <td>2</td>\n",
              "      <td>0</td>\n",
              "      <td>1</td>\n",
              "      <td>0</td>\n",
              "      <td>0</td>\n",
              "      <td>0</td>\n",
              "      <td>0</td>\n",
              "      <td>28800</td>\n",
              "      <td>4475.0</td>\n",
              "      <td>4475.0</td>\n",
              "      <td>4475.0</td>\n",
              "      <td>4475.0</td>\n",
              "      <td>1.0</td>\n",
              "    </tr>\n",
              "    <tr>\n",
              "      <th>28800</th>\n",
              "      <td>2018-12-06 17:00:00</td>\n",
              "      <td>2</td>\n",
              "      <td>0</td>\n",
              "      <td>1</td>\n",
              "      <td>0</td>\n",
              "      <td>0</td>\n",
              "      <td>0</td>\n",
              "      <td>0</td>\n",
              "      <td>28800</td>\n",
              "      <td>4114.0</td>\n",
              "      <td>4114.0</td>\n",
              "      <td>4114.0</td>\n",
              "      <td>4114.0</td>\n",
              "      <td>12.0</td>\n",
              "    </tr>\n",
              "  </tbody>\n",
              "</table>\n",
              "<p>691206 rows × 14 columns</p>\n",
              "</div>"
            ],
            "text/plain": [
              "                 dateTime  instrument  INST1  ...    Open   Close   Qty\n",
              "0     2018-12-03 09:00:00           1      1  ...  2556.0  2556.0   1.0\n",
              "0     2018-12-04 09:00:00           4      0  ...  1850.0  1850.0   5.0\n",
              "0     2018-12-04 09:00:00           3      0  ...   690.0   690.0   1.0\n",
              "0     2018-12-05 09:00:00           4      0  ...  1844.0  1844.0   1.0\n",
              "0     2018-12-05 09:00:00           6      0  ...  3312.0  3312.0   7.0\n",
              "...                   ...         ...    ...  ...     ...     ...   ...\n",
              "28800 2018-12-05 17:00:00           5      0  ...  3055.0  3055.0   4.0\n",
              "28800 2018-12-05 17:00:00           3      0  ...   670.0   670.0  17.0\n",
              "28800 2018-12-06 17:00:00           5      0  ...  3075.0  3075.0  33.0\n",
              "28800 2018-12-03 17:00:00           2      0  ...  4475.0  4475.0   1.0\n",
              "28800 2018-12-06 17:00:00           2      0  ...  4114.0  4114.0  12.0\n",
              "\n",
              "[691206 rows x 14 columns]"
            ]
          },
          "metadata": {
            "tags": []
          },
          "execution_count": 9
        }
      ]
    },
    {
      "cell_type": "code",
      "metadata": {
        "id": "k_HSfsK1NpPg",
        "colab_type": "code",
        "colab": {
          "base_uri": "https://localhost:8080/",
          "height": 419
        },
        "outputId": "cee1f71a-519e-40d9-9d6d-3aa7789397cc"
      },
      "source": [
        "#log of change\n",
        "df['log_ret'] = np.log(df.price) - np.log(df.price.shift(1))"
      ],
      "execution_count": 10,
      "outputs": [
        {
          "output_type": "execute_result",
          "data": {
            "text/html": [
              "<div>\n",
              "<style scoped>\n",
              "    .dataframe tbody tr th:only-of-type {\n",
              "        vertical-align: middle;\n",
              "    }\n",
              "\n",
              "    .dataframe tbody tr th {\n",
              "        vertical-align: top;\n",
              "    }\n",
              "\n",
              "    .dataframe thead th {\n",
              "        text-align: right;\n",
              "    }\n",
              "</style>\n",
              "<table border=\"1\" class=\"dataframe\">\n",
              "  <thead>\n",
              "    <tr style=\"text-align: right;\">\n",
              "      <th></th>\n",
              "      <th>c1</th>\n",
              "      <th>c2</th>\n",
              "      <th>c3</th>\n",
              "      <th>c4</th>\n",
              "      <th>c5</th>\n",
              "      <th>c6</th>\n",
              "      <th>dateTime</th>\n",
              "    </tr>\n",
              "  </thead>\n",
              "  <tbody>\n",
              "    <tr>\n",
              "      <th>0</th>\n",
              "      <td>2556.0</td>\n",
              "      <td>NaN</td>\n",
              "      <td>NaN</td>\n",
              "      <td>NaN</td>\n",
              "      <td>NaN</td>\n",
              "      <td>NaN</td>\n",
              "      <td>2018-12-03 09:00:00</td>\n",
              "    </tr>\n",
              "    <tr>\n",
              "      <th>1</th>\n",
              "      <td>2567.0</td>\n",
              "      <td>NaN</td>\n",
              "      <td>NaN</td>\n",
              "      <td>NaN</td>\n",
              "      <td>NaN</td>\n",
              "      <td>NaN</td>\n",
              "      <td>2018-12-03 09:00:01</td>\n",
              "    </tr>\n",
              "    <tr>\n",
              "      <th>2</th>\n",
              "      <td>2567.0</td>\n",
              "      <td>NaN</td>\n",
              "      <td>NaN</td>\n",
              "      <td>NaN</td>\n",
              "      <td>NaN</td>\n",
              "      <td>NaN</td>\n",
              "      <td>2018-12-03 09:00:02</td>\n",
              "    </tr>\n",
              "    <tr>\n",
              "      <th>3</th>\n",
              "      <td>2567.0</td>\n",
              "      <td>NaN</td>\n",
              "      <td>NaN</td>\n",
              "      <td>NaN</td>\n",
              "      <td>NaN</td>\n",
              "      <td>NaN</td>\n",
              "      <td>2018-12-03 09:00:03</td>\n",
              "    </tr>\n",
              "    <tr>\n",
              "      <th>4</th>\n",
              "      <td>2567.0</td>\n",
              "      <td>NaN</td>\n",
              "      <td>NaN</td>\n",
              "      <td>NaN</td>\n",
              "      <td>NaN</td>\n",
              "      <td>NaN</td>\n",
              "      <td>2018-12-03 09:00:04</td>\n",
              "    </tr>\n",
              "    <tr>\n",
              "      <th>...</th>\n",
              "      <td>...</td>\n",
              "      <td>...</td>\n",
              "      <td>...</td>\n",
              "      <td>...</td>\n",
              "      <td>...</td>\n",
              "      <td>...</td>\n",
              "      <td>...</td>\n",
              "    </tr>\n",
              "    <tr>\n",
              "      <th>28795</th>\n",
              "      <td>2588.0</td>\n",
              "      <td>4472.0</td>\n",
              "      <td>671.0</td>\n",
              "      <td>1887.0</td>\n",
              "      <td>3129.0</td>\n",
              "      <td>3324.0</td>\n",
              "      <td>2018-12-06 16:59:55</td>\n",
              "    </tr>\n",
              "    <tr>\n",
              "      <th>28796</th>\n",
              "      <td>2588.0</td>\n",
              "      <td>4472.0</td>\n",
              "      <td>671.0</td>\n",
              "      <td>1887.0</td>\n",
              "      <td>3129.0</td>\n",
              "      <td>3324.0</td>\n",
              "      <td>2018-12-06 16:59:56</td>\n",
              "    </tr>\n",
              "    <tr>\n",
              "      <th>28797</th>\n",
              "      <td>2588.0</td>\n",
              "      <td>4474.0</td>\n",
              "      <td>671.0</td>\n",
              "      <td>1887.0</td>\n",
              "      <td>3128.0</td>\n",
              "      <td>3324.0</td>\n",
              "      <td>2018-12-06 16:59:57</td>\n",
              "    </tr>\n",
              "    <tr>\n",
              "      <th>28798</th>\n",
              "      <td>2588.0</td>\n",
              "      <td>4474.0</td>\n",
              "      <td>671.0</td>\n",
              "      <td>1887.0</td>\n",
              "      <td>3128.0</td>\n",
              "      <td>3324.0</td>\n",
              "      <td>2018-12-06 16:59:58</td>\n",
              "    </tr>\n",
              "    <tr>\n",
              "      <th>28799</th>\n",
              "      <td>2588.0</td>\n",
              "      <td>4475.0</td>\n",
              "      <td>671.0</td>\n",
              "      <td>1887.0</td>\n",
              "      <td>3128.0</td>\n",
              "      <td>3324.0</td>\n",
              "      <td>2018-12-06 16:59:59</td>\n",
              "    </tr>\n",
              "  </tbody>\n",
              "</table>\n",
              "<p>691200 rows × 7 columns</p>\n",
              "</div>"
            ],
            "text/plain": [
              "           c1      c2     c3      c4      c5      c6            dateTime\n",
              "0      2556.0     NaN    NaN     NaN     NaN     NaN 2018-12-03 09:00:00\n",
              "1      2567.0     NaN    NaN     NaN     NaN     NaN 2018-12-03 09:00:01\n",
              "2      2567.0     NaN    NaN     NaN     NaN     NaN 2018-12-03 09:00:02\n",
              "3      2567.0     NaN    NaN     NaN     NaN     NaN 2018-12-03 09:00:03\n",
              "4      2567.0     NaN    NaN     NaN     NaN     NaN 2018-12-03 09:00:04\n",
              "...       ...     ...    ...     ...     ...     ...                 ...\n",
              "28795  2588.0  4472.0  671.0  1887.0  3129.0  3324.0 2018-12-06 16:59:55\n",
              "28796  2588.0  4472.0  671.0  1887.0  3129.0  3324.0 2018-12-06 16:59:56\n",
              "28797  2588.0  4474.0  671.0  1887.0  3128.0  3324.0 2018-12-06 16:59:57\n",
              "28798  2588.0  4474.0  671.0  1887.0  3128.0  3324.0 2018-12-06 16:59:58\n",
              "28799  2588.0  4475.0  671.0  1887.0  3128.0  3324.0 2018-12-06 16:59:59\n",
              "\n",
              "[691200 rows x 7 columns]"
            ]
          },
          "metadata": {
            "tags": []
          },
          "execution_count": 10
        }
      ]
    },
    {
      "cell_type": "markdown",
      "metadata": {
        "colab_type": "text",
        "id": "HSG9vwb5AIHX"
      },
      "source": [
        "Now, lets get the data ready for feeding to NN"
      ]
    },
    {
      "cell_type": "code",
      "metadata": {
        "id": "GcOWxHQmZCOk",
        "colab_type": "code",
        "outputId": "40e2f16b-e789-4023-c5be-e629b1261044",
        "colab": {
          "base_uri": "https://localhost:8080/",
          "height": 351
        }
      },
      "source": [
        "#set dateTime as index\n",
        "trainingDataFrame.set_index('dateTime',inplace=True)#drop=True, append=False, inplace=False, verify_integrity=False)\n",
        "\n",
        "#trainingDataFrame.iloc[155000:155020]\n",
        "#sort dataframe rows by datetime index\n",
        "trainingDataFrame = trainingDataFrame.sort_index()\n",
        "\n"
      ],
      "execution_count": 8,
      "outputs": [
        {
          "output_type": "error",
          "ename": "KeyError",
          "evalue": "ignored",
          "traceback": [
            "\u001b[0;31m---------------------------------------------------------------------------\u001b[0m",
            "\u001b[0;31mKeyError\u001b[0m                                  Traceback (most recent call last)",
            "\u001b[0;32m<ipython-input-8-f971aa9579b3>\u001b[0m in \u001b[0;36m<module>\u001b[0;34m()\u001b[0m\n\u001b[0;32m----> 1\u001b[0;31m \u001b[0mtrainingDataFrame\u001b[0m\u001b[0;34m.\u001b[0m\u001b[0mset_index\u001b[0m\u001b[0;34m(\u001b[0m\u001b[0;34m'dateTime'\u001b[0m\u001b[0;34m,\u001b[0m\u001b[0minplace\u001b[0m\u001b[0;34m=\u001b[0m\u001b[0;32mTrue\u001b[0m\u001b[0;34m)\u001b[0m\u001b[0;31m#drop=True, append=False, inplace=False, verify_integrity=False)\u001b[0m\u001b[0;34m\u001b[0m\u001b[0;34m\u001b[0m\u001b[0m\n\u001b[0m\u001b[1;32m      2\u001b[0m \u001b[0;34m\u001b[0m\u001b[0m\n\u001b[1;32m      3\u001b[0m \u001b[0;31m#trainingDataFrame.iloc[155000:155020]\u001b[0m\u001b[0;34m\u001b[0m\u001b[0;34m\u001b[0m\u001b[0;34m\u001b[0m\u001b[0m\n\u001b[1;32m      4\u001b[0m \u001b[0;31m#sort dataframe rows by datetime index\u001b[0m\u001b[0;34m\u001b[0m\u001b[0;34m\u001b[0m\u001b[0;34m\u001b[0m\u001b[0m\n\u001b[1;32m      5\u001b[0m \u001b[0mtrainingDataFrame\u001b[0m \u001b[0;34m=\u001b[0m \u001b[0mtrainingDataFrame\u001b[0m\u001b[0;34m.\u001b[0m\u001b[0msort_index\u001b[0m\u001b[0;34m(\u001b[0m\u001b[0;34m)\u001b[0m\u001b[0;34m\u001b[0m\u001b[0;34m\u001b[0m\u001b[0m\n",
            "\u001b[0;32m/usr/local/lib/python3.6/dist-packages/pandas/core/frame.py\u001b[0m in \u001b[0;36mset_index\u001b[0;34m(self, keys, drop, append, inplace, verify_integrity)\u001b[0m\n\u001b[1;32m   4409\u001b[0m \u001b[0;34m\u001b[0m\u001b[0m\n\u001b[1;32m   4410\u001b[0m         \u001b[0;32mif\u001b[0m \u001b[0mmissing\u001b[0m\u001b[0;34m:\u001b[0m\u001b[0;34m\u001b[0m\u001b[0;34m\u001b[0m\u001b[0m\n\u001b[0;32m-> 4411\u001b[0;31m             \u001b[0;32mraise\u001b[0m \u001b[0mKeyError\u001b[0m\u001b[0;34m(\u001b[0m\u001b[0;34m\"None of {} are in the columns\"\u001b[0m\u001b[0;34m.\u001b[0m\u001b[0mformat\u001b[0m\u001b[0;34m(\u001b[0m\u001b[0mmissing\u001b[0m\u001b[0;34m)\u001b[0m\u001b[0;34m)\u001b[0m\u001b[0;34m\u001b[0m\u001b[0;34m\u001b[0m\u001b[0m\n\u001b[0m\u001b[1;32m   4412\u001b[0m \u001b[0;34m\u001b[0m\u001b[0m\n\u001b[1;32m   4413\u001b[0m         \u001b[0;32mif\u001b[0m \u001b[0minplace\u001b[0m\u001b[0;34m:\u001b[0m\u001b[0;34m\u001b[0m\u001b[0;34m\u001b[0m\u001b[0m\n",
            "\u001b[0;31mKeyError\u001b[0m: \"None of ['dateTime'] are in the columns\""
          ]
        }
      ]
    },
    {
      "cell_type": "code",
      "metadata": {
        "id": "fG8OnSFd3ryn",
        "colab_type": "code",
        "outputId": "b323d7e8-2df4-4d09-c6a8-f9a098fdac82",
        "colab": {
          "base_uri": "https://localhost:8080/",
          "height": 450
        }
      },
      "source": [
        "trainingDataFrame.head(65)\n",
        "#graphingDF.groupby(graphingDF.index)\n",
        "#graphingDF#.head(65)\n"
      ],
      "execution_count": 14,
      "outputs": [
        {
          "output_type": "execute_result",
          "data": {
            "text/html": [
              "<div>\n",
              "<style scoped>\n",
              "    .dataframe tbody tr th:only-of-type {\n",
              "        vertical-align: middle;\n",
              "    }\n",
              "\n",
              "    .dataframe tbody tr th {\n",
              "        vertical-align: top;\n",
              "    }\n",
              "\n",
              "    .dataframe thead th {\n",
              "        text-align: right;\n",
              "    }\n",
              "</style>\n",
              "<table border=\"1\" class=\"dataframe\">\n",
              "  <thead>\n",
              "    <tr style=\"text-align: right;\">\n",
              "      <th></th>\n",
              "      <th>instrument</th>\n",
              "      <th>INST1</th>\n",
              "      <th>INST2</th>\n",
              "      <th>INST3</th>\n",
              "      <th>INST4</th>\n",
              "      <th>INST5</th>\n",
              "      <th>INST6</th>\n",
              "      <th>Seconds</th>\n",
              "      <th>High</th>\n",
              "      <th>Low</th>\n",
              "      <th>Open</th>\n",
              "      <th>Close</th>\n",
              "      <th>Qty</th>\n",
              "    </tr>\n",
              "    <tr>\n",
              "      <th>dateTime</th>\n",
              "      <th></th>\n",
              "      <th></th>\n",
              "      <th></th>\n",
              "      <th></th>\n",
              "      <th></th>\n",
              "      <th></th>\n",
              "      <th></th>\n",
              "      <th></th>\n",
              "      <th></th>\n",
              "      <th></th>\n",
              "      <th></th>\n",
              "      <th></th>\n",
              "      <th></th>\n",
              "    </tr>\n",
              "  </thead>\n",
              "  <tbody>\n",
              "    <tr>\n",
              "      <th>2018-12-03 09:00:00</th>\n",
              "      <td>1</td>\n",
              "      <td>1</td>\n",
              "      <td>0</td>\n",
              "      <td>0</td>\n",
              "      <td>0</td>\n",
              "      <td>0</td>\n",
              "      <td>0</td>\n",
              "      <td>0</td>\n",
              "      <td>2556.0</td>\n",
              "      <td>2556.0</td>\n",
              "      <td>2556.0</td>\n",
              "      <td>2556.0</td>\n",
              "      <td>1.0</td>\n",
              "    </tr>\n",
              "    <tr>\n",
              "      <th>2018-12-03 09:00:00</th>\n",
              "      <td>5</td>\n",
              "      <td>0</td>\n",
              "      <td>0</td>\n",
              "      <td>0</td>\n",
              "      <td>0</td>\n",
              "      <td>1</td>\n",
              "      <td>0</td>\n",
              "      <td>0</td>\n",
              "      <td>3105.0</td>\n",
              "      <td>3105.0</td>\n",
              "      <td>3105.0</td>\n",
              "      <td>3105.0</td>\n",
              "      <td>2.0</td>\n",
              "    </tr>\n",
              "    <tr>\n",
              "      <th>2018-12-03 09:00:00</th>\n",
              "      <td>4</td>\n",
              "      <td>0</td>\n",
              "      <td>0</td>\n",
              "      <td>0</td>\n",
              "      <td>1</td>\n",
              "      <td>0</td>\n",
              "      <td>0</td>\n",
              "      <td>0</td>\n",
              "      <td>1825.0</td>\n",
              "      <td>1825.0</td>\n",
              "      <td>1825.0</td>\n",
              "      <td>1825.0</td>\n",
              "      <td>1.0</td>\n",
              "    </tr>\n",
              "    <tr>\n",
              "      <th>2018-12-03 09:00:00</th>\n",
              "      <td>3</td>\n",
              "      <td>0</td>\n",
              "      <td>0</td>\n",
              "      <td>1</td>\n",
              "      <td>0</td>\n",
              "      <td>0</td>\n",
              "      <td>0</td>\n",
              "      <td>0</td>\n",
              "      <td>696.0</td>\n",
              "      <td>696.0</td>\n",
              "      <td>696.0</td>\n",
              "      <td>696.0</td>\n",
              "      <td>2.0</td>\n",
              "    </tr>\n",
              "    <tr>\n",
              "      <th>2018-12-03 09:00:00</th>\n",
              "      <td>2</td>\n",
              "      <td>0</td>\n",
              "      <td>1</td>\n",
              "      <td>0</td>\n",
              "      <td>0</td>\n",
              "      <td>0</td>\n",
              "      <td>0</td>\n",
              "      <td>0</td>\n",
              "      <td>4670.0</td>\n",
              "      <td>4670.0</td>\n",
              "      <td>4670.0</td>\n",
              "      <td>4670.0</td>\n",
              "      <td>1.0</td>\n",
              "    </tr>\n",
              "    <tr>\n",
              "      <th>...</th>\n",
              "      <td>...</td>\n",
              "      <td>...</td>\n",
              "      <td>...</td>\n",
              "      <td>...</td>\n",
              "      <td>...</td>\n",
              "      <td>...</td>\n",
              "      <td>...</td>\n",
              "      <td>...</td>\n",
              "      <td>...</td>\n",
              "      <td>...</td>\n",
              "      <td>...</td>\n",
              "      <td>...</td>\n",
              "      <td>...</td>\n",
              "    </tr>\n",
              "    <tr>\n",
              "      <th>2018-12-03 09:00:10</th>\n",
              "      <td>1</td>\n",
              "      <td>1</td>\n",
              "      <td>0</td>\n",
              "      <td>0</td>\n",
              "      <td>0</td>\n",
              "      <td>0</td>\n",
              "      <td>0</td>\n",
              "      <td>10</td>\n",
              "      <td>NaN</td>\n",
              "      <td>NaN</td>\n",
              "      <td>NaN</td>\n",
              "      <td>2567.0</td>\n",
              "      <td>NaN</td>\n",
              "    </tr>\n",
              "    <tr>\n",
              "      <th>2018-12-03 09:00:10</th>\n",
              "      <td>5</td>\n",
              "      <td>0</td>\n",
              "      <td>0</td>\n",
              "      <td>0</td>\n",
              "      <td>0</td>\n",
              "      <td>1</td>\n",
              "      <td>0</td>\n",
              "      <td>10</td>\n",
              "      <td>NaN</td>\n",
              "      <td>NaN</td>\n",
              "      <td>NaN</td>\n",
              "      <td>3105.0</td>\n",
              "      <td>NaN</td>\n",
              "    </tr>\n",
              "    <tr>\n",
              "      <th>2018-12-03 09:00:10</th>\n",
              "      <td>4</td>\n",
              "      <td>0</td>\n",
              "      <td>0</td>\n",
              "      <td>0</td>\n",
              "      <td>1</td>\n",
              "      <td>0</td>\n",
              "      <td>0</td>\n",
              "      <td>10</td>\n",
              "      <td>NaN</td>\n",
              "      <td>NaN</td>\n",
              "      <td>NaN</td>\n",
              "      <td>1856.0</td>\n",
              "      <td>NaN</td>\n",
              "    </tr>\n",
              "    <tr>\n",
              "      <th>2018-12-03 09:00:10</th>\n",
              "      <td>6</td>\n",
              "      <td>0</td>\n",
              "      <td>0</td>\n",
              "      <td>0</td>\n",
              "      <td>0</td>\n",
              "      <td>0</td>\n",
              "      <td>1</td>\n",
              "      <td>10</td>\n",
              "      <td>NaN</td>\n",
              "      <td>NaN</td>\n",
              "      <td>NaN</td>\n",
              "      <td>3300.0</td>\n",
              "      <td>NaN</td>\n",
              "    </tr>\n",
              "    <tr>\n",
              "      <th>2018-12-03 09:00:10</th>\n",
              "      <td>3</td>\n",
              "      <td>0</td>\n",
              "      <td>0</td>\n",
              "      <td>1</td>\n",
              "      <td>0</td>\n",
              "      <td>0</td>\n",
              "      <td>0</td>\n",
              "      <td>10</td>\n",
              "      <td>NaN</td>\n",
              "      <td>NaN</td>\n",
              "      <td>NaN</td>\n",
              "      <td>700.0</td>\n",
              "      <td>NaN</td>\n",
              "    </tr>\n",
              "  </tbody>\n",
              "</table>\n",
              "<p>65 rows × 13 columns</p>\n",
              "</div>"
            ],
            "text/plain": [
              "                     instrument  INST1  INST2  ...    Open   Close  Qty\n",
              "dateTime                                       ...                     \n",
              "2018-12-03 09:00:00           1      1      0  ...  2556.0  2556.0  1.0\n",
              "2018-12-03 09:00:00           5      0      0  ...  3105.0  3105.0  2.0\n",
              "2018-12-03 09:00:00           4      0      0  ...  1825.0  1825.0  1.0\n",
              "2018-12-03 09:00:00           3      0      0  ...   696.0   696.0  2.0\n",
              "2018-12-03 09:00:00           2      0      1  ...  4670.0  4670.0  1.0\n",
              "...                         ...    ...    ...  ...     ...     ...  ...\n",
              "2018-12-03 09:00:10           1      1      0  ...     NaN  2567.0  NaN\n",
              "2018-12-03 09:00:10           5      0      0  ...     NaN  3105.0  NaN\n",
              "2018-12-03 09:00:10           4      0      0  ...     NaN  1856.0  NaN\n",
              "2018-12-03 09:00:10           6      0      0  ...     NaN  3300.0  NaN\n",
              "2018-12-03 09:00:10           3      0      0  ...     NaN   700.0  NaN\n",
              "\n",
              "[65 rows x 13 columns]"
            ]
          },
          "metadata": {
            "tags": []
          },
          "execution_count": 14
        }
      ]
    },
    {
      "cell_type": "code",
      "metadata": {
        "id": "ccOq_uVrAXID",
        "colab_type": "code",
        "outputId": "801a7488-38e4-40bd-e5ea-36b059e63406",
        "colab": {
          "base_uri": "https://localhost:8080/",
          "height": 279
        }
      },
      "source": [
        "#graph\n",
        "trainingDataFrame[['Close', 'High']].plot()\n",
        "plt.show()\n",
        "#build dataset to graph - look at close of each series, vs time\n",
        "#ds = pd.DataFrame(getColData(i),columns=['c1','c2','c3','c4','c5','c6'])\n",
        "\n",
        "#cp = (trainingDataFrame['Close'].where(trainingDataFrame['instrument']==1)).copy()\n",
        "#cp.dropna(0,inplace=True)\n",
        "#ds = pd.DataFrame(cp.copy().tolist(),columns=['c1'],index=0)\n",
        "#ds = cp.copy()\n",
        "#ds.rename(columns={ ds.columns[1]: \"c1\" }, inplace = True)\n",
        "#gds = trainingDataFrame[['instrument','Close']]\n",
        "#ds['c1']=trainingDataFrame['Close']\n",
        "# making boolean series for a team name \n",
        "#filter = trainingDataFrame['instrument']==1\n",
        "# filtering data \n",
        "#ds = trainingDataFrame.where(filter, inplace = True) \n",
        "#drop rows that are all NaN\n",
        "#ds.dropna(0, how='all', subset=['c1'], inplace=True)\n",
        "#\n",
        "#ds.drop(columns=['Close','Qty'])\n",
        "#dataset.drop('No', axis=1, inplace=True)\n",
        "#len(ds.index)\n",
        "#print(ds.tail(22))\n",
        "\n",
        "#import seaborn as sns\n",
        "#sns.pairplot(gds)\n",
        "#ds"
      ],
      "execution_count": 0,
      "outputs": [
        {
          "output_type": "display_data",
          "data": {
            "image/png": "[encoded data removed]",
            "text/plain": [
              "<Figure size 432x288 with 1 Axes>"
            ]
          },
          "metadata": {
            "tags": []
          }
        }
      ]
    },
    {
      "cell_type": "markdown",
      "metadata": {
        "id": "t6Ws7oJIb4J3",
        "colab_type": "text"
      },
      "source": [
        "J Welles Wilder chose CHXX as best representative pair of possibilities to represent __________. Why? The answer presented in a separate article may be relevant to choice of col to feed to NN. For example, instructions given orally were to use instruments 1 through 5 as predictors of inst6 (target). Therefore, inst6 will not be used as a feature. It would be interesting to examine how prediction accuracy is affected by including inst6 as feature in addition to being target. Percaution is needed to avoid look ahead bias error."
      ]
    },
    {
      "cell_type": "markdown",
      "metadata": {
        "id": "XgJS5mQ7D0dl",
        "colab_type": "text"
      },
      "source": [
        "\n",
        "\n",
        "\n",
        "\n",
        "Graph for visual inspection"
      ]
    },
    {
      "cell_type": "code",
      "metadata": {
        "id": "NAmgCHJmQSCX",
        "colab_type": "code",
        "outputId": "de681d99-5149-4488-e185-ffbc6806fee8",
        "colab": {
          "base_uri": "https://localhost:8080/",
          "height": 198
        }
      },
      "source": [
        "\n",
        "import seaborn as sns\n"
      ],
      "execution_count": 0,
      "outputs": [
        {
          "output_type": "error",
          "ename": "NameError",
          "evalue": "ignored",
          "traceback": [
            "\u001b[0;31m---------------------------------------------------------------------------\u001b[0m",
            "\u001b[0;31mNameError\u001b[0m                                 Traceback (most recent call last)",
            "\u001b[0;32m<ipython-input-19-12bbc6f3a830>\u001b[0m in \u001b[0;36m<module>\u001b[0;34m()\u001b[0m\n\u001b[1;32m      1\u001b[0m \u001b[0;34m\u001b[0m\u001b[0m\n\u001b[1;32m      2\u001b[0m \u001b[0;32mimport\u001b[0m \u001b[0mseaborn\u001b[0m \u001b[0;32mas\u001b[0m \u001b[0msns\u001b[0m\u001b[0;34m\u001b[0m\u001b[0;34m\u001b[0m\u001b[0m\n\u001b[0;32m----> 3\u001b[0;31m \u001b[0msns\u001b[0m\u001b[0;34m.\u001b[0m\u001b[0mpairplot\u001b[0m\u001b[0;34m(\u001b[0m\u001b[0mcar_data\u001b[0m\u001b[0;34m.\u001b[0m\u001b[0mloc\u001b[0m\u001b[0;34m[\u001b[0m\u001b[0;34m:\u001b[0m\u001b[0;34m,\u001b[0m\u001b[0mcar_data\u001b[0m\u001b[0;34m.\u001b[0m\u001b[0mdtypes\u001b[0m \u001b[0;34m==\u001b[0m \u001b[0;34m'float64'\u001b[0m\u001b[0;34m]\u001b[0m\u001b[0;34m)\u001b[0m\u001b[0;34m\u001b[0m\u001b[0;34m\u001b[0m\u001b[0m\n\u001b[0m",
            "\u001b[0;31mNameError\u001b[0m: name 'car_data' is not defined"
          ]
        }
      ]
    },
    {
      "cell_type": "markdown",
      "metadata": {
        "id": "RqpY9AopDG74",
        "colab_type": "text"
      },
      "source": [
        "PREPARE DATA\n",
        "- combine training data into one large set. Instrument being categorical, is converted to one-hot encoding. Normalize data for ML PCA"
      ]
    },
    {
      "cell_type": "code",
      "metadata": {
        "id": "gDQNwj7TDtVs",
        "colab_type": "code",
        "colab": {}
      },
      "source": [
        "bla"
      ],
      "execution_count": 0,
      "outputs": []
    },
    {
      "cell_type": "markdown",
      "metadata": {
        "id": "wy7H7GH-Du44",
        "colab_type": "text"
      },
      "source": [
        ""
      ]
    },
    {
      "cell_type": "code",
      "metadata": {
        "colab_type": "code",
        "id": "Zswl7jRtGzkk",
        "colab": {}
      },
      "source": [
        "def plot_series(time, series, format=\"-\", start=0, end=None):\n",
        "    plt.plot(time[start:end], series[start:end], format)\n",
        "    plt.xlabel(\"Time\")\n",
        "    plt.ylabel(\"Value\")\n",
        "    plt.grid(True)\n",
        "\n",
        "def trend(time, slope=0):\n",
        "    return slope * time\n",
        "\n",
        "def seasonal_pattern(season_time):\n",
        "    \"\"\"Just an arbitrary pattern, you can change it if you wish\"\"\"\n",
        "    return np.where(season_time < 0.4,\n",
        "                    np.cos(season_time * 2 * np.pi),\n",
        "                    1 / np.exp(3 * season_time))\n",
        "\n",
        "def seasonality(time, period, amplitude=1, phase=0):\n",
        "    \"\"\"Repeats the same pattern at each period\"\"\"\n",
        "    season_time = ((time + phase) % period) / period\n",
        "    return amplitude * seasonal_pattern(season_time)\n",
        "\n",
        "def noise(time, noise_level=1, seed=None):\n",
        "    rnd = np.random.RandomState(seed)\n",
        "    return rnd.randn(len(time)) * noise_level\n",
        "\n",
        "time = np.arange(4 * 365 + 1, dtype=\"float32\")\n",
        "baseline = 10\n",
        "series = trend(time, 0.1)  \n",
        "baseline = 10\n",
        "amplitude = 40\n",
        "slope = 0.05\n",
        "noise_level = 5\n",
        "\n",
        "# Create the series\n",
        "series = baseline + trend(time, slope) + seasonality(time, period=365, amplitude=amplitude)\n",
        "# Update with noise\n",
        "series += noise(time, noise_level, seed=42)\n",
        "\n",
        "split_time = 1000\n",
        "time_train = time[:split_time]\n",
        "x_train = series[:split_time]\n",
        "time_valid = time[split_time:]\n",
        "x_valid = series[split_time:]\n",
        "\n",
        "window_size = 20\n",
        "batch_size = 32\n",
        "shuffle_buffer_size = 1000"
      ],
      "execution_count": 0,
      "outputs": []
    },
    {
      "cell_type": "code",
      "metadata": {
        "id": "4sTTIOCbyShY",
        "colab_type": "code",
        "colab": {}
      },
      "source": [
        "def windowed_dataset(series, window_size, batch_size, shuffle_buffer):\n",
        "  dataset = tf.data.Dataset.from_tensor_slices(series)\n",
        "  dataset = dataset.window(window_size + 1, shift=1, drop_remainder=True)\n",
        "  dataset = dataset.flat_map(lambda window: window.batch(window_size + 1))\n",
        "  dataset = dataset.shuffle(shuffle_buffer).map(lambda window: (window[:-1], window[-1]))\n",
        "  dataset = dataset.batch(batch_size).prefetch(1)\n",
        "  return dataset"
      ],
      "execution_count": 0,
      "outputs": []
    },
    {
      "cell_type": "code",
      "metadata": {
        "id": "A1Hl39rklkLm",
        "colab_type": "code",
        "outputId": "27515a62-cd3b-4d2d-eca2-bb14ede68038",
        "colab": {
          "base_uri": "https://localhost:8080/",
          "height": 1000
        }
      },
      "source": [
        "tf.keras.backend.clear_session()\n",
        "tf.random.set_seed(51)\n",
        "np.random.seed(51)\n",
        "\n",
        "tf.keras.backend.clear_session()\n",
        "dataset = windowed_dataset(x_train, window_size, batch_size, shuffle_buffer_size)\n",
        "\n",
        "model = tf.keras.models.Sequential([\n",
        "  tf.keras.layers.Lambda(lambda x: tf.expand_dims(x, axis=-1),\n",
        "                      input_shape=[None]),\n",
        "    tf.keras.layers.Bidirectional(tf.keras.layers.LSTM(32, return_sequences=True)),\n",
        "  tf.keras.layers.Bidirectional(tf.keras.layers.LSTM(32)),\n",
        "  tf.keras.layers.Dense(1),\n",
        "  tf.keras.layers.Lambda(lambda x: x * 100.0)\n",
        "])\n",
        "\n",
        "lr_schedule = tf.keras.callbacks.LearningRateScheduler(\n",
        "    lambda epoch: 1e-8 * 10**(epoch / 20))\n",
        "optimizer = tf.keras.optimizers.SGD(lr=1e-8, momentum=0.9)\n",
        "model.compile(loss=tf.keras.losses.Huber(),\n",
        "              optimizer=optimizer,\n",
        "              metrics=[\"mae\"])\n",
        "history = model.fit(dataset, epochs=100, callbacks=[lr_schedule])"
      ],
      "execution_count": 0,
      "outputs": [
        {
          "output_type": "stream",
          "text": [
            "Epoch 1/100\n",
            "31/31 [==============================] - 5s 168ms/step - loss: 21.4949 - mae: 22.0115\n",
            "Epoch 2/100\n",
            "31/31 [==============================] - 1s 30ms/step - loss: 21.1128 - mae: 21.6440\n",
            "Epoch 3/100\n",
            "31/31 [==============================] - 1s 31ms/step - loss: 20.7468 - mae: 21.2278\n",
            "Epoch 4/100\n",
            "31/31 [==============================] - 1s 30ms/step - loss: 20.3564 - mae: 20.7739\n",
            "Epoch 5/100\n",
            "31/31 [==============================] - 1s 31ms/step - loss: 19.7907 - mae: 20.2843\n",
            "Epoch 6/100\n",
            "31/31 [==============================] - 1s 32ms/step - loss: 19.1428 - mae: 19.6776\n",
            "Epoch 7/100\n",
            "31/31 [==============================] - 1s 32ms/step - loss: 18.2205 - mae: 18.7308\n",
            "Epoch 8/100\n",
            "31/31 [==============================] - 1s 30ms/step - loss: 17.5280 - mae: 17.9757\n",
            "Epoch 9/100\n",
            "31/31 [==============================] - 1s 33ms/step - loss: 17.1315 - mae: 17.6581\n",
            "Epoch 10/100\n",
            "31/31 [==============================] - 1s 31ms/step - loss: 16.8294 - mae: 17.3457\n",
            "Epoch 11/100\n",
            "31/31 [==============================] - 1s 31ms/step - loss: 16.5175 - mae: 17.0459\n",
            "Epoch 12/100\n",
            "31/31 [==============================] - 1s 31ms/step - loss: 16.2835 - mae: 16.7529\n",
            "Epoch 13/100\n",
            "31/31 [==============================] - 1s 31ms/step - loss: 15.9576 - mae: 16.4573\n",
            "Epoch 14/100\n",
            "31/31 [==============================] - 1s 32ms/step - loss: 15.6444 - mae: 16.1587\n",
            "Epoch 15/100\n",
            "31/31 [==============================] - 1s 33ms/step - loss: 15.3548 - mae: 15.8571\n",
            "Epoch 16/100\n",
            "31/31 [==============================] - 1s 31ms/step - loss: 15.0615 - mae: 15.5765\n",
            "Epoch 17/100\n",
            "31/31 [==============================] - 1s 31ms/step - loss: 14.8060 - mae: 15.2950\n",
            "Epoch 18/100\n",
            "31/31 [==============================] - 1s 33ms/step - loss: 14.5474 - mae: 15.0164\n",
            "Epoch 19/100\n",
            "31/31 [==============================] - 1s 33ms/step - loss: 14.2308 - mae: 14.7612\n",
            "Epoch 20/100\n",
            "31/31 [==============================] - 1s 31ms/step - loss: 14.0179 - mae: 14.5354\n",
            "Epoch 21/100\n",
            "31/31 [==============================] - 1s 33ms/step - loss: 13.8130 - mae: 14.3081\n",
            "Epoch 22/100\n",
            "31/31 [==============================] - 1s 32ms/step - loss: 13.5935 - mae: 14.1062\n",
            "Epoch 23/100\n",
            "31/31 [==============================] - 1s 31ms/step - loss: 13.3985 - mae: 13.8858\n",
            "Epoch 24/100\n",
            "31/31 [==============================] - 1s 31ms/step - loss: 13.2187 - mae: 13.7037\n",
            "Epoch 25/100\n",
            "31/31 [==============================] - 1s 31ms/step - loss: 12.9267 - mae: 13.4526\n",
            "Epoch 26/100\n",
            "31/31 [==============================] - 1s 30ms/step - loss: 12.7290 - mae: 13.2327\n",
            "Epoch 27/100\n",
            "31/31 [==============================] - 1s 29ms/step - loss: 12.4543 - mae: 12.9716\n",
            "Epoch 28/100\n",
            "31/31 [==============================] - 1s 30ms/step - loss: 12.2231 - mae: 12.7095\n",
            "Epoch 29/100\n",
            "31/31 [==============================] - 1s 33ms/step - loss: 12.3309 - mae: 12.8460\n",
            "Epoch 30/100\n",
            "31/31 [==============================] - 1s 32ms/step - loss: 11.8069 - mae: 12.3121\n",
            "Epoch 31/100\n",
            "31/31 [==============================] - 1s 31ms/step - loss: 11.3216 - mae: 11.8148\n",
            "Epoch 32/100\n",
            "31/31 [==============================] - 1s 30ms/step - loss: 11.0173 - mae: 11.4830\n",
            "Epoch 33/100\n",
            "31/31 [==============================] - 1s 31ms/step - loss: 10.6577 - mae: 11.1361\n",
            "Epoch 34/100\n",
            "31/31 [==============================] - 1s 31ms/step - loss: 10.8241 - mae: 11.3007\n",
            "Epoch 35/100\n",
            "31/31 [==============================] - 1s 34ms/step - loss: 10.9697 - mae: 11.4606\n",
            "Epoch 36/100\n",
            "31/31 [==============================] - 1s 30ms/step - loss: 10.4872 - mae: 10.9636\n",
            "Epoch 37/100\n",
            "31/31 [==============================] - 1s 30ms/step - loss: 10.0051 - mae: 10.4892\n",
            "Epoch 38/100\n",
            "31/31 [==============================] - 1s 33ms/step - loss: 9.5181 - mae: 10.0283\n",
            "Epoch 39/100\n",
            "31/31 [==============================] - 1s 31ms/step - loss: 9.0591 - mae: 9.5461\n",
            "Epoch 40/100\n",
            "31/31 [==============================] - 1s 31ms/step - loss: 8.6498 - mae: 9.1358\n",
            "Epoch 41/100\n",
            "31/31 [==============================] - 1s 31ms/step - loss: 8.2329 - mae: 8.7356\n",
            "Epoch 42/100\n",
            "31/31 [==============================] - 1s 30ms/step - loss: 7.9299 - mae: 8.4081\n",
            "Epoch 43/100\n",
            "31/31 [==============================] - 1s 30ms/step - loss: 7.6007 - mae: 8.1137\n",
            "Epoch 44/100\n",
            "31/31 [==============================] - 1s 30ms/step - loss: 7.3032 - mae: 7.8033\n",
            "Epoch 45/100\n",
            "31/31 [==============================] - 1s 33ms/step - loss: 7.0877 - mae: 7.5770\n",
            "Epoch 46/100\n",
            "31/31 [==============================] - 1s 32ms/step - loss: 6.8843 - mae: 7.3933\n",
            "Epoch 47/100\n",
            "31/31 [==============================] - 1s 31ms/step - loss: 6.6226 - mae: 7.0771\n",
            "Epoch 48/100\n",
            "31/31 [==============================] - 1s 31ms/step - loss: 6.4349 - mae: 6.9074\n",
            "Epoch 49/100\n",
            "31/31 [==============================] - 1s 29ms/step - loss: 6.3954 - mae: 6.8757\n",
            "Epoch 50/100\n",
            "31/31 [==============================] - 1s 31ms/step - loss: 6.0277 - mae: 6.5164\n",
            "Epoch 51/100\n",
            "31/31 [==============================] - 1s 30ms/step - loss: 5.8894 - mae: 6.3634\n",
            "Epoch 52/100\n",
            "31/31 [==============================] - 1s 30ms/step - loss: 5.7521 - mae: 6.2421\n",
            "Epoch 53/100\n",
            "31/31 [==============================] - 1s 32ms/step - loss: 5.6553 - mae: 6.1419\n",
            "Epoch 54/100\n",
            "31/31 [==============================] - 1s 34ms/step - loss: 5.4473 - mae: 5.9468\n",
            "Epoch 55/100\n",
            "31/31 [==============================] - 1s 30ms/step - loss: 5.4122 - mae: 5.9006\n",
            "Epoch 56/100\n",
            "31/31 [==============================] - 1s 29ms/step - loss: 5.2623 - mae: 5.7471\n",
            "Epoch 57/100\n",
            "31/31 [==============================] - 1s 31ms/step - loss: 5.3106 - mae: 5.7881\n",
            "Epoch 58/100\n",
            "31/31 [==============================] - 1s 31ms/step - loss: 5.1929 - mae: 5.6591\n",
            "Epoch 59/100\n",
            "31/31 [==============================] - 1s 31ms/step - loss: 5.2541 - mae: 5.7545\n",
            "Epoch 60/100\n",
            "31/31 [==============================] - 1s 32ms/step - loss: 5.1063 - mae: 5.5567\n",
            "Epoch 61/100\n",
            "31/31 [==============================] - 1s 32ms/step - loss: 4.9472 - mae: 5.4250\n",
            "Epoch 62/100\n",
            "31/31 [==============================] - 1s 32ms/step - loss: 5.0917 - mae: 5.5808\n",
            "Epoch 63/100\n",
            "31/31 [==============================] - 1s 31ms/step - loss: 5.1680 - mae: 5.6630\n",
            "Epoch 64/100\n",
            "31/31 [==============================] - 1s 30ms/step - loss: 5.0575 - mae: 5.5312\n",
            "Epoch 65/100\n",
            "31/31 [==============================] - 1s 31ms/step - loss: 4.9006 - mae: 5.3900\n",
            "Epoch 66/100\n",
            "31/31 [==============================] - 1s 30ms/step - loss: 5.2745 - mae: 5.7637\n",
            "Epoch 67/100\n",
            "31/31 [==============================] - 1s 30ms/step - loss: 5.2607 - mae: 5.7446\n",
            "Epoch 68/100\n",
            "31/31 [==============================] - 1s 31ms/step - loss: 5.2219 - mae: 5.7234\n",
            "Epoch 69/100\n",
            "31/31 [==============================] - 1s 30ms/step - loss: 5.3456 - mae: 5.8346\n",
            "Epoch 70/100\n",
            "31/31 [==============================] - 1s 31ms/step - loss: 6.1695 - mae: 6.6386\n",
            "Epoch 71/100\n",
            "31/31 [==============================] - 1s 31ms/step - loss: 4.9524 - mae: 5.4135\n",
            "Epoch 72/100\n",
            "31/31 [==============================] - 1s 32ms/step - loss: 5.5661 - mae: 6.0636\n",
            "Epoch 73/100\n",
            "31/31 [==============================] - 1s 32ms/step - loss: 5.3435 - mae: 5.8208\n",
            "Epoch 74/100\n",
            "31/31 [==============================] - 1s 30ms/step - loss: 6.7295 - mae: 7.1966\n",
            "Epoch 75/100\n",
            "31/31 [==============================] - 1s 30ms/step - loss: 5.7209 - mae: 6.1957\n",
            "Epoch 76/100\n",
            "31/31 [==============================] - 1s 30ms/step - loss: 5.1361 - mae: 5.6158\n",
            "Epoch 77/100\n",
            "31/31 [==============================] - 1s 31ms/step - loss: 5.7700 - mae: 6.2385\n",
            "Epoch 78/100\n",
            "31/31 [==============================] - 1s 31ms/step - loss: 7.1160 - mae: 7.6426\n",
            "Epoch 79/100\n",
            "31/31 [==============================] - 1s 31ms/step - loss: 5.1408 - mae: 5.5955\n",
            "Epoch 80/100\n",
            "31/31 [==============================] - 1s 31ms/step - loss: 6.5603 - mae: 7.0136\n",
            "Epoch 81/100\n",
            "31/31 [==============================] - 1s 30ms/step - loss: 6.5901 - mae: 7.1079\n",
            "Epoch 82/100\n",
            "31/31 [==============================] - 1s 32ms/step - loss: 6.7842 - mae: 7.2374\n",
            "Epoch 83/100\n",
            "31/31 [==============================] - 1s 31ms/step - loss: 6.3530 - mae: 6.8347\n",
            "Epoch 84/100\n",
            "31/31 [==============================] - 1s 30ms/step - loss: 5.8671 - mae: 6.3277\n",
            "Epoch 85/100\n",
            "31/31 [==============================] - 1s 30ms/step - loss: 7.1769 - mae: 7.6007\n",
            "Epoch 86/100\n",
            "31/31 [==============================] - 1s 31ms/step - loss: 7.4673 - mae: 7.9559\n",
            "Epoch 87/100\n",
            "31/31 [==============================] - 1s 30ms/step - loss: 8.0605 - mae: 8.5456\n",
            "Epoch 88/100\n",
            "31/31 [==============================] - 1s 30ms/step - loss: 6.9597 - mae: 7.4773\n",
            "Epoch 89/100\n",
            "31/31 [==============================] - 1s 31ms/step - loss: 6.5257 - mae: 6.9714\n",
            "Epoch 90/100\n",
            "31/31 [==============================] - 1s 30ms/step - loss: 7.8902 - mae: 8.3901\n",
            "Epoch 91/100\n",
            "31/31 [==============================] - 1s 30ms/step - loss: 5.9261 - mae: 6.4224\n",
            "Epoch 92/100\n",
            "31/31 [==============================] - 1s 31ms/step - loss: 7.8160 - mae: 8.2557\n",
            "Epoch 93/100\n",
            "31/31 [==============================] - 1s 33ms/step - loss: 10.1226 - mae: 10.6407\n",
            "Epoch 94/100\n",
            "31/31 [==============================] - 1s 32ms/step - loss: 9.7183 - mae: 10.2520\n",
            "Epoch 95/100\n",
            "31/31 [==============================] - 1s 31ms/step - loss: 8.1838 - mae: 8.6051\n",
            "Epoch 96/100\n",
            "31/31 [==============================] - 1s 31ms/step - loss: 10.4008 - mae: 10.7728\n",
            "Epoch 97/100\n",
            "31/31 [==============================] - 1s 30ms/step - loss: 12.4193 - mae: 12.8968\n",
            "Epoch 98/100\n",
            "31/31 [==============================] - 1s 34ms/step - loss: 11.0743 - mae: 11.6217\n",
            "Epoch 99/100\n",
            "31/31 [==============================] - 1s 32ms/step - loss: 14.0315 - mae: 14.6141\n",
            "Epoch 100/100\n",
            "31/31 [==============================] - 1s 34ms/step - loss: 10.6631 - mae: 11.1881\n"
          ],
          "name": "stdout"
        }
      ]
    },
    {
      "cell_type": "code",
      "metadata": {
        "id": "AkBsrsXMzoWR",
        "colab_type": "code",
        "outputId": "01ef5058-3b80-4e24-da8b-0e07b71477e8",
        "colab": {
          "base_uri": "https://localhost:8080/",
          "height": 290
        }
      },
      "source": [
        "plt.semilogx(history.history[\"lr\"], history.history[\"loss\"])\n",
        "plt.axis([1e-8, 1e-4, 0, 30])"
      ],
      "execution_count": 0,
      "outputs": [
        {
          "output_type": "execute_result",
          "data": {
            "text/plain": [
              "[1e-08, 0.0001, 0, 30]"
            ]
          },
          "metadata": {
            "tags": []
          },
          "execution_count": 6
        },
        {
          "output_type": "display_data",
          "data": {
            "image/png": "[encoded data removed]",
            "text/plain": [
              "<Figure size 432x288 with 1 Axes>"
            ]
          },
          "metadata": {
            "tags": []
          }
        }
      ]
    },
    {
      "cell_type": "code",
      "metadata": {
        "id": "4uh-97bpLZCA",
        "colab_type": "code",
        "colab": {}
      },
      "source": [
        "tf.keras.backend.clear_session()\n",
        "tf.random.set_seed(51)\n",
        "np.random.seed(51)\n",
        "\n",
        "tf.keras.backend.clear_session()\n",
        "dataset = windowed_dataset(x_train, window_size, batch_size, shuffle_buffer_size)\n",
        "\n",
        "model = tf.keras.models.Sequential([\n",
        "  tf.keras.layers.Lambda(lambda x: tf.expand_dims(x, axis=-1),\n",
        "                      input_shape=[None]),\n",
        "   tf.keras.layers.Bidirectional(tf.keras.layers.LSTM(32, return_sequences=True)),\n",
        "  tf.keras.layers.Bidirectional(tf.keras.layers.LSTM(32)),\n",
        "  tf.keras.layers.Dense(1),\n",
        "  tf.keras.layers.Lambda(lambda x: x * 100.0)\n",
        "])\n",
        "\n",
        "\n",
        "model.compile(loss=\"mse\", optimizer=tf.keras.optimizers.SGD(lr=1e-5, momentum=0.9),metrics=[\"mae\"])\n",
        "history = model.fit(dataset,epochs=500,verbose=0)"
      ],
      "execution_count": 0,
      "outputs": []
    },
    {
      "cell_type": "code",
      "metadata": {
        "id": "icGDaND7z0ne",
        "colab_type": "code",
        "outputId": "023851b8-515e-44f7-ca6b-06c5e99cd213",
        "colab": {
          "base_uri": "https://localhost:8080/",
          "height": 388
        }
      },
      "source": [
        "forecast = []\n",
        "results = []\n",
        "for time in range(len(series) - window_size):\n",
        "  forecast.append(model.predict(series[time:time + window_size][np.newaxis]))\n",
        "\n",
        "forecast = forecast[split_time-window_size:]\n",
        "results = np.array(forecast)[:, 0, 0]\n",
        "\n",
        "\n",
        "plt.figure(figsize=(10, 6))\n",
        "\n",
        "plot_series(time_valid, x_valid)\n",
        "plot_series(time_valid, results)"
      ],
      "execution_count": 0,
      "outputs": [
        {
          "output_type": "display_data",
          "data": {
            "image/png": "[encoded data removed]",
            "text/plain": [
              "<Figure size 720x432 with 1 Axes>"
            ]
          },
          "metadata": {
            "tags": []
          }
        }
      ]
    },
    {
      "cell_type": "code",
      "metadata": {
        "id": "KfPeqI7rz4LD",
        "colab_type": "code",
        "outputId": "816335be-fd2a-428f-98d6-05983b84d9b5",
        "colab": {
          "base_uri": "https://localhost:8080/",
          "height": 35
        }
      },
      "source": [
        "tf.keras.metrics.mean_absolute_error(x_valid, results).numpy()"
      ],
      "execution_count": 0,
      "outputs": [
        {
          "output_type": "execute_result",
          "data": {
            "text/plain": [
              "8.514286"
            ]
          },
          "metadata": {
            "tags": []
          },
          "execution_count": 12
        }
      ]
    },
    {
      "cell_type": "code",
      "metadata": {
        "id": "JUsdZB_tzDLe",
        "colab_type": "code",
        "outputId": "964c47d9-7eec-42cd-905f-c45c2fd31d9e",
        "colab": {
          "base_uri": "https://localhost:8080/",
          "height": 235
        }
      },
      "source": [
        "import matplotlib.image  as mpimg\n",
        "import matplotlib.pyplot as plt\n",
        "\n",
        "#-----------------------------------------------------------\n",
        "# Retrieve a list of list results on training and test data\n",
        "# sets for each training epoch\n",
        "#-----------------------------------------------------------\n",
        "mae=history.history['mae']\n",
        "loss=history.history['loss']\n",
        "\n",
        "epochs=range(len(loss)) # Get number of epochs\n",
        "\n",
        "#------------------------------------------------\n",
        "# Plot MAE and Loss\n",
        "#------------------------------------------------\n",
        "plt.plot(epochs, mae, 'r')\n",
        "plt.plot(epochs, loss, 'b')\n",
        "plt.title('MAE and Loss')\n",
        "plt.xlabel(\"Epochs\")\n",
        "plt.ylabel(\"Accuracy\")\n",
        "plt.legend([\"MAE\", \"Loss\"])\n",
        "\n",
        "plt.figure()\n",
        "\n",
        "epochs_zoom = epochs[200:]\n",
        "mae_zoom = mae[200:]\n",
        "loss_zoom = loss[200:]\n",
        "\n",
        "#------------------------------------------------\n",
        "# Plot Zoomed MAE and Loss\n",
        "#------------------------------------------------\n",
        "plt.plot(epochs_zoom, mae_zoom, 'r')\n",
        "plt.plot(epochs_zoom, loss_zoom, 'b')\n",
        "plt.title('MAE and Loss')\n",
        "plt.xlabel(\"Epochs\")\n",
        "plt.ylabel(\"Accuracy\")\n",
        "plt.legend([\"MAE\", \"Loss\"])\n",
        "\n",
        "plt.figure()"
      ],
      "execution_count": 0,
      "outputs": [
        {
          "output_type": "error",
          "ename": "KeyError",
          "evalue": "ignored",
          "traceback": [
            "\u001b[0;31m---------------------------------------------------------------------------\u001b[0m",
            "\u001b[0;31mKeyError\u001b[0m                                  Traceback (most recent call last)",
            "\u001b[0;32m<ipython-input-13-0d8269471fd6>\u001b[0m in \u001b[0;36m<module>\u001b[0;34m()\u001b[0m\n\u001b[1;32m      6\u001b[0m \u001b[0;31m# sets for each training epoch\u001b[0m\u001b[0;34m\u001b[0m\u001b[0;34m\u001b[0m\u001b[0;34m\u001b[0m\u001b[0m\n\u001b[1;32m      7\u001b[0m \u001b[0;31m#-----------------------------------------------------------\u001b[0m\u001b[0;34m\u001b[0m\u001b[0;34m\u001b[0m\u001b[0;34m\u001b[0m\u001b[0m\n\u001b[0;32m----> 8\u001b[0;31m \u001b[0mmae\u001b[0m\u001b[0;34m=\u001b[0m\u001b[0mhistory\u001b[0m\u001b[0;34m.\u001b[0m\u001b[0mhistory\u001b[0m\u001b[0;34m[\u001b[0m\u001b[0;34m'mae'\u001b[0m\u001b[0;34m]\u001b[0m\u001b[0;34m\u001b[0m\u001b[0;34m\u001b[0m\u001b[0m\n\u001b[0m\u001b[1;32m      9\u001b[0m \u001b[0mloss\u001b[0m\u001b[0;34m=\u001b[0m\u001b[0mhistory\u001b[0m\u001b[0;34m.\u001b[0m\u001b[0mhistory\u001b[0m\u001b[0;34m[\u001b[0m\u001b[0;34m'loss'\u001b[0m\u001b[0;34m]\u001b[0m\u001b[0;34m\u001b[0m\u001b[0;34m\u001b[0m\u001b[0m\n\u001b[1;32m     10\u001b[0m \u001b[0;34m\u001b[0m\u001b[0m\n",
            "\u001b[0;31mKeyError\u001b[0m: 'mae'"
          ]
        }
      ]
    },
    {
      "cell_type": "code",
      "metadata": {
        "id": "3CGaYFxXNEAK",
        "colab_type": "code",
        "colab": {}
      },
      "source": [
        "tf.keras.backend.clear_session()\n",
        "dataset = windowed_dataset(x_train, window_size, batch_size, shuffle_buffer_size)\n",
        "\n",
        "model = tf.keras.models.Sequential([\n",
        "  tf.keras.layers.Lambda(lambda x: tf.expand_dims(x, axis=-1),\n",
        "                      input_shape=[None]),\n",
        "  tf.keras.layers.Bidirectional(tf.keras.layers.LSTM(32, return_sequences=True)),\n",
        "  tf.keras.layers.Bidirectional(tf.keras.layers.LSTM(32)),\n",
        "  tf.keras.layers.Dense(1),\n",
        "  tf.keras.layers.Lambda(lambda x: x * 100.0)\n",
        "])\n",
        "\n",
        "\n",
        "model.compile(loss=\"mse\", optimizer=tf.keras.optimizers.SGD(lr=1e-6, momentum=0.9))\n",
        "model.fit(dataset,epochs=100, verbose=0)"
      ],
      "execution_count": 0,
      "outputs": []
    },
    {
      "cell_type": "code",
      "metadata": {
        "id": "FJ3R8ysauz9e",
        "colab_type": "code",
        "colab": {}
      },
      "source": [
        "tf.keras.backend.clear_session()\n",
        "dataset = windowed_dataset(x_train, window_size, batch_size, shuffle_buffer_size)\n",
        "\n",
        "model = tf.keras.models.Sequential([\n",
        "  tf.keras.layers.Lambda(lambda x: tf.expand_dims(x, axis=-1),\n",
        "                      input_shape=[None]),\n",
        "  tf.keras.layers.Bidirectional(tf.keras.layers.LSTM(32, return_sequences=True)),\n",
        "  tf.keras.layers.Bidirectional(tf.keras.layers.LSTM(32, return_sequences=True)),\n",
        "  tf.keras.layers.Bidirectional(tf.keras.layers.LSTM(32)),\n",
        "  tf.keras.layers.Dense(1),\n",
        "  tf.keras.layers.Lambda(lambda x: x * 100.0)\n",
        "])\n",
        "\n",
        "\n",
        "model.compile(loss=\"mse\", optimizer=tf.keras.optimizers.SGD(lr=1e-6, momentum=0.9))\n",
        "model.fit(dataset,epochs=100)"
      ],
      "execution_count": 0,
      "outputs": []
    }
  ]
}